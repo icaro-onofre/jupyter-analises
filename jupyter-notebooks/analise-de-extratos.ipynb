{
 "cells": [
  {
   "cell_type": "markdown",
   "metadata": {},
   "source": [
    "# Analise de finanças no mês\n",
    "### O objetivo deste notebook é criar uma lógica de como analisar o saldo de um mês através de extratos e resumos de fatura,\n",
    "\n",
    "O meu saldo mensal é de R$ 2896, o que eu gasto em média em contas é R$574, minha menta de aporte mensal é de 1500"
   ]
  },
  {
   "cell_type": "code",
   "execution_count": null,
   "metadata": {},
   "outputs": [],
   "source": [
    "# Esta expressão representa o que geralmente eu tenho líquido no mês para gastos comigo mesmo.\n",
    "(2986-574-1500)"
   ]
  },
  {
   "cell_type": "code",
   "execution_count": null,
   "metadata": {},
   "outputs": [],
   "source": [
    "#import polars as pl\n",
    "import pandas as pd\n",
    "import re\n",
    "import os\n",
    "import sys"
   ]
  },
  {
   "cell_type": "code",
   "execution_count": null,
   "metadata": {},
   "outputs": [],
   "source": [
    "''' \n",
    " Para extrair o saldo do mês eu preciso analisar o que eu tenho de dívidas no crédito no mês, e considerar todas as transações feitas no débito\n",
    " representamos esses dados em dois dataframes, um com as faturas e outro com as transações. \n",
    " Consideramos também o período contábil para análise, que é de um mês, caso a analise seja realizada no começo do mês, considera-se os valores\n",
    " a receber.\n",
    "'''\n",
    "# TODO Depois irei parametrizar os arquivos para serem passados como argumentos no momento de executar o programa.\n",
    "# Busca pelos extratos nos diretorios esperados (./extratos/mêsAno) exemplo:(janeiro2024)\n",
    "df_extrato = pd.read_csv(\"../extratos/junho2024/nubank_debito_extrato_junho2024.csv\",sep=\",\",encoding='ISO-8859-1')\n",
    "df_resumo_fatura = pd.read_csv(\"../extratos/junho2024/nubank_fatura_julho2024.csv\",sep=\",\",encoding='ISO-8859-1')"
   ]
  },
  {
   "cell_type": "code",
   "execution_count": null,
   "metadata": {},
   "outputs": [],
   "source": [
    "df_extrato = df_extrato.drop(columns=\"Identificador\")"
   ]
  },
  {
   "cell_type": "code",
   "execution_count": null,
   "metadata": {},
   "outputs": [],
   "source": [
    "# Ajusta nomes das categorias das compras\n",
    "# Substituições dos nomes abaixos\n",
    "# {\"saÃºde\":\"saude\",\"serviÃ§os\":\"serviços\",\"educaÃ§Ã£o\":\"educação\",\"eletrÃ´nicos\":\"eletronicos\",\"vestuÃ¡rio\":\"vestuario\"}\n",
    "df_resumo_fatura['category'] = df_resumo_fatura['category'].str.replace(\"saÃºde\",\"saude\").str.replace(\"serviÃ§os\",\"serviços\").str.replace(\"educaÃ§Ã£o\",\"educação\").str.replace(\"eletrÃ´nicos\",\"eletronicos\").str.replace(\"vestuÃ¡rio\",\"vestuario\")"
   ]
  },
  {
   "cell_type": "code",
   "execution_count": null,
   "metadata": {},
   "outputs": [],
   "source": [
    "# Listrando transações a partir de um tipo\n",
    "df_resumo_fatura.loc[df_resumo_fatura['category'].eq('lazer')]"
   ]
  },
  {
   "cell_type": "code",
   "execution_count": null,
   "metadata": {},
   "outputs": [],
   "source": [
    "#Somando por categoria e exibindo resumo.\n",
    "df_fatura_agrupada = df_resumo_fatura.groupby(['category']).sum()\n",
    "df_fatura_agrupada.drop(columns=\"date\")"
   ]
  },
  {
   "cell_type": "code",
   "execution_count": null,
   "metadata": {},
   "outputs": [],
   "source": [
    "df_extrato['DescriÃ§Ã£o'] = df_extrato['DescriÃ§Ã£o'].str.replace('Compra de AÃ§Ãµes', 'compra acoes').str.replace('Compra no dÃ©bito', 'compra debito')"
   ]
  },
  {
   "cell_type": "code",
   "execution_count": null,
   "metadata": {},
   "outputs": [],
   "source": [
    "for a,b in df_extrato.iterrows():\n",
    "    print(b)"
   ]
  },
  {
   "cell_type": "code",
   "execution_count": null,
   "metadata": {},
   "outputs": [],
   "source": [
    "df = pd.DataFrame({'Teste':[12,23,23],'Teste2':[19,20,21],'Teste3':[1,2,3]})\n",
    "index_ = ['Row1','Row2','Row3']"
   ]
  },
  {
   "cell_type": "code",
   "execution_count": null,
   "metadata": {},
   "outputs": [],
   "source": [
    "# Contando transações listadas em faturas por categoria.\n",
    "transportes = 0\n",
    "supermercado = 0\n",
    "for i in df_resumo_fatura['category']:\n",
    "    if(i=='transporte'):\n",
    "        transportes += 1\n",
    "    if(i=='supermercado'):\n",
    "        supermercado += 1\n",
    "\n",
    "print(transportes)\n",
    "print(supermercado)\n"
   ]
  },
  {
   "cell_type": "code",
   "execution_count": null,
   "metadata": {},
   "outputs": [],
   "source": [
    "print(df_resumo_fatura['category']);"
   ]
  }
 ],
 "metadata": {
  "kernelspec": {
   "display_name": "Python 3 (ipykernel)",
   "language": "python",
   "name": "python3"
  },
  "language_info": {
   "codemirror_mode": {
    "name": "ipython",
    "version": 3
   },
   "file_extension": ".py",
   "mimetype": "text/x-python",
   "name": "python",
   "nbconvert_exporter": "python",
   "pygments_lexer": "ipython3",
   "version": "3.12.4"
  }
 },
 "nbformat": 4,
 "nbformat_minor": 2
}
