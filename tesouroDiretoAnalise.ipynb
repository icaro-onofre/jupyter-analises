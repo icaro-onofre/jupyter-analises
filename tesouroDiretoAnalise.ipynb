{
 "cells": [
  {
   "cell_type": "code",
   "execution_count": 1,
   "id": "8e8b989d-f029-49dd-9320-7e55a2643953",
   "metadata": {},
   "outputs": [],
   "source": [
    "import ipysheet"
   ]
  },
  {
   "cell_type": "code",
   "execution_count": 2,
   "id": "8609dbc0-1a08-4327-8590-730dd7bb72df",
   "metadata": {},
   "outputs": [],
   "source": [
    "sheet = ipysheet.sheet()"
   ]
  },
  {
   "cell_type": "code",
   "execution_count": 5,
   "id": "74dad8eb-98e6-49e1-8de5-dd98cd31948a",
   "metadata": {},
   "outputs": [],
   "source": [
    "def cdbRetorno(aporte,cdb,cdi,periodo):\n",
    "    i = cdi*(cdb/100)\n",
    "    retorno = aporte*(1+i)**periodo\n",
    "    return retorno\n",
    "    "
   ]
  },
  {
   "cell_type": "code",
   "execution_count": 6,
   "id": "49e7e072-3697-44b7-ac35-f13e7f637bd0",
   "metadata": {},
   "outputs": [
    {
     "name": "stdout",
     "output_type": "stream",
     "text": [
      "2916755193.8003826\n"
     ]
    }
   ],
   "source": [
    "print(cdbRetorno(1400,130,13.35,5))"
   ]
  }
 ],
 "metadata": {
  "kernelspec": {
   "display_name": "Python 3 (ipykernel)",
   "language": "python",
   "name": "python3"
  },
  "language_info": {
   "codemirror_mode": {
    "name": "ipython",
    "version": 3
   },
   "file_extension": ".py",
   "mimetype": "text/x-python",
   "name": "python",
   "nbconvert_exporter": "python",
   "pygments_lexer": "ipython3",
   "version": "3.11.5"
  }
 },
 "nbformat": 4,
 "nbformat_minor": 5
}
